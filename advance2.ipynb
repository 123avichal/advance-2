{
 "cells": [
  {
   "cell_type": "markdown",
   "id": "1be7e721-2296-420f-9c10-a7b0f1fb26ff",
   "metadata": {},
   "source": [
    "Q1: What are the Probability Mass Function (PMF) and Probability Density Function (PDF)? Explain with\n",
    "an example."
   ]
  },
  {
   "cell_type": "markdown",
   "id": "96c920e8-11e6-4a0f-96cb-cdecb2462a7e",
   "metadata": {},
   "source": [
    "Probability mass function denotes the probability that a discrete random variable will take on a particular value. Probability density function gives the probability that a continuous random variable will lie between a certain specified interval. It is used for discrete random variables. For example, we can use a PMF to calculate the probability of getting exactly three heads in a series of coin flips. This process involves plugging the value into the correct probability mass function and calculating the likelihood.\n",
    "\n",
    "Using a PMF to calculate the likelihoods for all possible values of the discrete variable produces its probability distribution.\n",
    "\n",
    "\n",
    "The probability density function (PDF) is associated with a continuous random variable by finding the probability that falls in a specific interval. A continuous random variable can take an uncountably infinite number of possible values. The probability mass function replaces the PDF for a discrete random variable that takes on finite or countable possible values.\n"
   ]
  },
  {
   "cell_type": "markdown",
   "id": "2137e4ae-2282-4deb-80fd-44cac9e4e450",
   "metadata": {},
   "source": [
    "Q2: What is Cumulative Density Function (CDF)? Explain with an example. Why CDF is used?"
   ]
  },
  {
   "cell_type": "markdown",
   "id": "0a359639-ccde-4238-9a20-a89f80d27c5f",
   "metadata": {},
   "source": [
    "CDF finds the cumulative probability for the given value. To determine the probability of a random variable, it is used and also to compare the probability between values under certain conditions. For discrete distribution functions, CDF gives the probability values till what we specify and for continuous distribution functions, it gives the area under the probability density function up to the given value specified.\n",
    "\n",
    "The cumulative distribution function is used to describe the probability distribution of random variables. It can be used to describe the probability for a discrete, continuous or mixed variable. It is obtained by summing up the probability density function and getting the cumulative probability for a random variable."
   ]
  },
  {
   "cell_type": "markdown",
   "id": "841b99d7-4eba-49a6-90c8-731ec54ab290",
   "metadata": {},
   "source": [
    "Q3: What are some examples of situations where the normal distribution might be used as a model?\n",
    "Explain how the parameters of the normal distribution relate to the shape of the distribution."
   ]
  },
  {
   "cell_type": "markdown",
   "id": "7d130fb9-29b1-4f5b-8714-b9ebc85240e8",
   "metadata": {},
   "source": [
    "Characteristics that are the sum of many independent processes frequently follow normal distributions. For example, heights, blood pressure, measurement error, and IQ scores follow the normal distribution.\n",
    "\n",
    "The two main parameters of a (normal) distribution are the mean and standard deviation. The parameters determine the shape and probabilities of the distribution. The shape of the distribution changes as the parameter values change."
   ]
  },
  {
   "cell_type": "markdown",
   "id": "9341c5ad-f12a-4c5f-a6cf-19836bc81af7",
   "metadata": {},
   "source": [
    "Q4: Explain the importance of Normal Distribution. Give a few real-life examples of Normal\n",
    "Distribution."
   ]
  },
  {
   "cell_type": "markdown",
   "id": "78866649-4d29-413e-a77e-8f6d55f68416",
   "metadata": {},
   "source": [
    "It has one of the important properties called central theorem. Central theorem means relationship between shape of population distribution and shape of sampling distribution of mean. This means that sampling distribution of mean approaches normal as sample size increase.\n",
    "\n",
    "The height of people is an example of normal distribution. Most of the people in a specific population are of average height. The number of people taller and shorter than the average height people is almost equal, and a very small number of people are either extremely tall or extremely short."
   ]
  },
  {
   "cell_type": "markdown",
   "id": "35ccceb3-a892-4183-97f4-347b914e1ca0",
   "metadata": {},
   "source": [
    "Q5: What is Bernaulli Distribution? Give an Example. What is the difference between Bernoulli\n",
    "Distribution and Binomial Distribution?"
   ]
  },
  {
   "cell_type": "raw",
   "id": "239e0b95-711f-464a-b3cc-1e013bd4ffd9",
   "metadata": {},
   "source": [
    "Bernoulli Distribution is a type of discrete probability distribution where every experiment conducted asks a question that can be answered only in yes or no. In other words, the random variable can be 1 with a probability p or it can be 0 with a probability (1 - p). Such an experiment is called a Bernoulli trial. A pass or fail exam can be modeled by a Bernoulli Distribution.\n",
    "\n",
    "The Bernoulli distribution represents the success or failure of a single Bernoulli trial. The Binomial Distribution represents the number of successes and failures in n independent Bernoulli trials for some given value of n.\n"
   ]
  },
  {
   "cell_type": "markdown",
   "id": "df4c353e-403f-4815-8139-f89a519054e2",
   "metadata": {},
   "source": [
    "Q7: Explain uniform Distribution with an example."
   ]
  },
  {
   "cell_type": "markdown",
   "id": "24edc12f-3258-410a-b953-23e66dbe0128",
   "metadata": {},
   "source": [
    "A continuous probability distribution is called the uniform distribution and it is related to the events that are equally possible to occur. It is defined by two different parameters, x and y, where x = the minimum value and y = the maximum value. It is generally represented by u(x,y).\n",
    "A continuous probability distribution is a Uniform distribution and is related to the events which are equally likely to occur. It is defined by two parameters, x and y, where x = minimum value and y = maximum value. It is generally denoted by u(x, y)."
   ]
  },
  {
   "cell_type": "markdown",
   "id": "b393492b-8fd4-4f6e-b5b4-d95fce12e245",
   "metadata": {},
   "source": [
    "Q8: What is the z score? State the importance of the z score."
   ]
  },
  {
   "cell_type": "markdown",
   "id": "0c1afcce-7c53-4480-9850-82786b5961ea",
   "metadata": {},
   "source": [
    " Z-score is a statistical measurement that describes a value's relationship to the mean of a group of values. Z-score is measured in terms of standard deviations from the mean. If a Z-score is 0, it indicates that the data point's score is identical to the mean score.\n",
    " \n",
    "It allows researchers to calculate the probability of a score occurring within a standard normal distribution;\n",
    "It enables us to compare two scores from different samples (which may have different means and standard deviations)."
   ]
  },
  {
   "cell_type": "markdown",
   "id": "513864cd-a3fa-4c4b-89e0-e66e5e21bf47",
   "metadata": {},
   "source": [
    "Q9: What is Central Limit Theorem? State the significance of the Central Limit Theorem."
   ]
  },
  {
   "cell_type": "markdown",
   "id": "43fdc549-e6f9-49fd-b816-0993e6e0b076",
   "metadata": {},
   "source": [
    "it is the sample distribution of mean will a always be normal distributed as long as enough large sample size regardless of population has normal,poisson ,or any other distribution \n",
    "if you take a sufficiently large sample size from a population with a finite level of variance, the mean of all samples from that population will be roughly equal to the population mean\n",
    "\n",
    "Political/election polling is a great example of how you can use CLT. These polls are used to estimate the number of people who support a specific candidate. You may have seen these results with confidence intervals on news channels. The CLT aids in this calculation."
   ]
  },
  {
   "cell_type": "markdown",
   "id": "91699048-79d8-4196-a634-dc580c62ae86",
   "metadata": {},
   "source": [
    "Q10: State the assumptions of the Central Limit Theorem."
   ]
  },
  {
   "cell_type": "markdown",
   "id": "71c1386a-a895-4ebd-928c-af43671d1d0e",
   "metadata": {},
   "source": [
    "It needs to be sampled at random. The samples should be unrelated to one another. One sample should not impact the others. When taking samples without replacement, the sample size should not exceed 10% of the population"
   ]
  },
  {
   "cell_type": "markdown",
   "id": "71274534-2d26-46bc-85ca-1e45069b3b7f",
   "metadata": {},
   "source": [
    "Q6. Consider a dataset with a mean of 50 and a standard deviation of 10. If we assume that the dataset\n",
    "is normally distributed, what is the probability that a randomly selected observation will be greater\n",
    "than 60? Use the appropriate formula and show your calculations."
   ]
  },
  {
   "cell_type": "code",
   "execution_count": null,
   "id": "60eaff16-c2a5-4618-bda3-18efaf8bd625",
   "metadata": {},
   "outputs": [],
   "source": [
    "u = 50 \n",
    "std = 10"
   ]
  }
 ],
 "metadata": {
  "kernelspec": {
   "display_name": "Python 3 (ipykernel)",
   "language": "python",
   "name": "python3"
  },
  "language_info": {
   "codemirror_mode": {
    "name": "ipython",
    "version": 3
   },
   "file_extension": ".py",
   "mimetype": "text/x-python",
   "name": "python",
   "nbconvert_exporter": "python",
   "pygments_lexer": "ipython3",
   "version": "3.10.8"
  }
 },
 "nbformat": 4,
 "nbformat_minor": 5
}
